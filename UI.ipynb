{
 "cells": [
  {
   "cell_type": "markdown",
   "id": "pretty-juice",
   "metadata": {},
   "source": [
    "# IE Tokenization Utils"
   ]
  },
  {
   "cell_type": "code",
   "execution_count": 1,
   "id": "curious-riding",
   "metadata": {},
   "outputs": [
    {
     "name": "stdout",
     "output_type": "stream",
     "text": [
      "Processing /home/jovyan\n",
      "  Installing build dependencies ... \u001b[?25ldone\n",
      "\u001b[?25h  Getting requirements to build wheel ... \u001b[?25ldone\n",
      "\u001b[?25h    Preparing wheel metadata ... \u001b[?25ldone\n",
      "\u001b[?25hCollecting pandas\n",
      "  Downloading pandas-1.3.0-cp37-cp37m-manylinux_2_5_x86_64.manylinux1_x86_64.whl (10.8 MB)\n",
      "\u001b[K     |████████████████████████████████| 10.8 MB 4.0 MB/s eta 0:00:01\n",
      "\u001b[?25hCollecting numpy>=1.17.3\n",
      "  Downloading numpy-1.21.0-cp37-cp37m-manylinux_2_12_x86_64.manylinux2010_x86_64.whl (15.7 MB)\n",
      "\u001b[K     |████████████████████████████████| 15.7 MB 57.6 MB/s eta 0:00:01\n",
      "\u001b[?25hRequirement already satisfied: pytz>=2017.3 in /srv/conda/envs/notebook/lib/python3.7/site-packages (from pandas->ie_utils==0.1.0) (2021.1)\n",
      "Requirement already satisfied: python-dateutil>=2.7.3 in /srv/conda/envs/notebook/lib/python3.7/site-packages (from pandas->ie_utils==0.1.0) (2.8.1)\n",
      "Requirement already satisfied: six>=1.5 in /srv/conda/envs/notebook/lib/python3.7/site-packages (from python-dateutil>=2.7.3->pandas->ie_utils==0.1.0) (1.15.0)\n",
      "Building wheels for collected packages: ie-utils\n",
      "  Building wheel for ie-utils (PEP 517) ... \u001b[?25ldone\n",
      "\u001b[?25h  Created wheel for ie-utils: filename=ie_utils-0.1.0-py2.py3-none-any.whl size=2188 sha256=968ad9ca72123bcf6d09aeae9e11650b426eb4e1ae5ab84f327e3b75eab1cea9\n",
      "  Stored in directory: /tmp/pip-ephem-wheel-cache-gdr02glb/wheels/24/67/61/461d47532c7e3b6048f03e8f0e3c2ddb1976b17163d48f9fe9\n",
      "Successfully built ie-utils\n",
      "Installing collected packages: numpy, pandas, ie-utils\n",
      "Successfully installed ie-utils-0.1.0 numpy-1.21.0 pandas-1.3.0\n",
      "Note: you may need to restart the kernel to use updated packages.\n"
     ]
    }
   ],
   "source": [
    "#%pip install ."
   ]
  },
  {
   "cell_type": "code",
   "execution_count": 2,
   "id": "sealed-matter",
   "metadata": {},
   "outputs": [],
   "source": [
    "from ie_utils import tokenize"
   ]
  },
  {
   "cell_type": "code",
   "execution_count": 3,
   "id": "supreme-royal",
   "metadata": {},
   "outputs": [],
   "source": [
    "import ipywidgets as ipyw"
   ]
  },
  {
   "cell_type": "code",
   "execution_count": 7,
   "id": "psychological-smart",
   "metadata": {},
   "outputs": [
    {
     "data": {
      "application/vnd.jupyter.widget-view+json": {
       "model_id": "c8cfb1055b0243cd9af2536b4394f5e3",
       "version_major": 2,
       "version_minor": 0
      },
      "text/plain": [
       "interactive(children=(Text(value='', description='sentence'), Output()), _dom_classes=('widget-interact',))"
      ]
     },
     "metadata": {},
     "output_type": "display_data"
    }
   ],
   "source": [
    "@ipyw.interact\n",
    "def do_tokenize(sentence=\"\"):\n",
    "    tokens = tokenize(sentence)\n",
    "    tokens_text = \"\\n\".join(tokens)\n",
    "    \n",
    "    print( f\"\"\" Number of tokens: {len(tokens)}\n",
    "Tokens:\n",
    "{tokens_text}\n",
    "    \"\"\")"
   ]
  },
  {
   "cell_type": "code",
   "execution_count": null,
   "id": "civic-calibration",
   "metadata": {},
   "outputs": [],
   "source": []
  }
 ],
 "metadata": {
  "kernelspec": {
   "display_name": "Python 3",
   "language": "python",
   "name": "python3"
  },
  "language_info": {
   "codemirror_mode": {
    "name": "ipython",
    "version": 3
   },
   "file_extension": ".py",
   "mimetype": "text/x-python",
   "name": "python",
   "nbconvert_exporter": "python",
   "pygments_lexer": "ipython3",
   "version": "3.7.10"
  }
 },
 "nbformat": 4,
 "nbformat_minor": 5
}
